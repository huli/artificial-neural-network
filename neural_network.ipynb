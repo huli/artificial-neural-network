{
 "cells": [
  {
   "cell_type": "markdown",
   "metadata": {},
   "source": [
    "# Simple Artificial Neural Network\n",
    "Inspired by Welch Labs Neural Networks demystified"
   ]
  },
  {
   "cell_type": "code",
   "execution_count": 1,
   "metadata": {
    "collapsed": true
   },
   "outputs": [],
   "source": [
    "# Package for scientific computing\n",
    "import numpy as np"
   ]
  },
  {
   "cell_type": "code",
   "execution_count": 2,
   "metadata": {
    "collapsed": true
   },
   "outputs": [],
   "source": [
    "# Make up sample data for our training\n",
    "\n",
    "# Independent/predictor variables ([hours sleep, hours study])\n",
    "X = np.array(([7, 2],[8, 1],[4, 0], [9, 3], [7, 1], [8, 3]), dtype=float)\n",
    "\n",
    "# Dependent/predicted variables (score in test)\n",
    "y = np.array(([85], [84], [70], [98], [80], [92]), dtype=float)"
   ]
  },
  {
   "cell_type": "code",
   "execution_count": 3,
   "metadata": {},
   "outputs": [
    {
     "data": {
      "text/plain": [
       "array([[ 7.,  2.],\n",
       "       [ 8.,  1.],\n",
       "       [ 4.,  0.],\n",
       "       [ 9.,  3.],\n",
       "       [ 7.,  1.],\n",
       "       [ 8.,  3.]])"
      ]
     },
     "execution_count": 3,
     "metadata": {},
     "output_type": "execute_result"
    }
   ],
   "source": [
    "X"
   ]
  },
  {
   "cell_type": "code",
   "execution_count": 4,
   "metadata": {},
   "outputs": [
    {
     "data": {
      "text/plain": [
       "array([[ 85.],\n",
       "       [ 84.],\n",
       "       [ 70.],\n",
       "       [ 98.],\n",
       "       [ 80.],\n",
       "       [ 92.]])"
      ]
     },
     "execution_count": 4,
     "metadata": {},
     "output_type": "execute_result"
    }
   ],
   "source": [
    "y"
   ]
  },
  {
   "cell_type": "code",
   "execution_count": 5,
   "metadata": {
    "collapsed": true
   },
   "outputs": [],
   "source": [
    "# Data optimization for better performance \n",
    "\n",
    "# Feature scaling\n",
    "X = X / np.amax(X, axis = 0)\n",
    "y = y / 100 # 100 would be the max score\n",
    "\n",
    "# Mean normalisation\n",
    "X = X - np.mean(X, axis=0)\n",
    "y = y - np.mean(y, axis=0)"
   ]
  },
  {
   "cell_type": "code",
   "execution_count": 6,
   "metadata": {},
   "outputs": [
    {
     "data": {
      "text/plain": [
       "array([[-0.01851852,  0.11111111],\n",
       "       [ 0.09259259, -0.22222222],\n",
       "       [-0.35185185, -0.55555556],\n",
       "       [ 0.2037037 ,  0.44444444],\n",
       "       [-0.01851852, -0.22222222],\n",
       "       [ 0.09259259,  0.44444444]])"
      ]
     },
     "execution_count": 6,
     "metadata": {},
     "output_type": "execute_result"
    }
   ],
   "source": [
    "X"
   ]
  },
  {
   "cell_type": "code",
   "execution_count": 7,
   "metadata": {
    "collapsed": true
   },
   "outputs": [],
   "source": [
    "# 2D plotting library\n",
    "import matplotlib.pyplot as plt"
   ]
  },
  {
   "cell_type": "code",
   "execution_count": 8,
   "metadata": {},
   "outputs": [
    {
     "data": {
      "image/png": "[encoded data removed]",
      "text/plain": [
       "<Figure size 432x288 with 2 Axes>"
      ]
     },
     "metadata": {},
     "output_type": "display_data"
    }
   ],
   "source": [
    "# Visualizing our data for some data exploration ;)\n",
    "plt.scatter(X[:, 0], X[:,1], c=y[:,0])\n",
    "plt.xlabel('sleep (hours)')\n",
    "plt.ylabel('studied (hours)')\n",
    "plt.colorbar()\n",
    "plt.show()"
   ]
  },
  {
   "cell_type": "code",
   "execution_count": 9,
   "metadata": {},
   "outputs": [
    {
     "data": {
      "text/plain": [
       "array([[-0.01851852,  0.11111111],\n",
       "       [ 0.09259259, -0.22222222],\n",
       "       [-0.35185185, -0.55555556],\n",
       "       [ 0.2037037 ,  0.44444444],\n",
       "       [-0.01851852, -0.22222222],\n",
       "       [ 0.09259259,  0.44444444]])"
      ]
     },
     "execution_count": 9,
     "metadata": {},
     "output_type": "execute_result"
    }
   ],
   "source": [
    "X"
   ]
  },
  {
   "cell_type": "code",
   "execution_count": 10,
   "metadata": {
    "collapsed": true
   },
   "outputs": [],
   "source": [
    "# Define a sigmoid function for illustration\n",
    "def sigmoid(z):\n",
    "     return 1/(1+np.exp(-z))"
   ]
  },
  {
   "cell_type": "code",
   "execution_count": 11,
   "metadata": {},
   "outputs": [
    {
     "data": {
      "image/png": "[encoded data removed]",
      "text/plain": [
       "<Figure size 432x288 with 1 Axes>"
      ]
     },
     "metadata": {},
     "output_type": "display_data"
    }
   ],
   "source": [
    "# Test our sigmoid function\n",
    "testInput = np.arange(-6, 6, 0.01) \n",
    "plt.plot(testInput, sigmoid(testInput), linewidth=2)\n",
    "plt.show()"
   ]
  },
  {
   "cell_type": "code",
   "execution_count": 32,
   "metadata": {
    "collapsed": true
   },
   "outputs": [],
   "source": [
    "# Implement the neural network class\n",
    "class NeuralNetwork(object):\n",
    "    \n",
    "    def __init__(self):\n",
    "        \n",
    "        # Define some hyper-parameters\n",
    "        self.inputLayerSize = 2\n",
    "        self.outputLayerSize = 1\n",
    "        self.hiddenLayerSize = 3\n",
    "        \n",
    "        # Randomly initilization of the weights\n",
    "        self.W1 = np.random.randn(self.inputLayerSize,  \\\n",
    "                                 self.hiddenLayerSize)\n",
    "        self.W2 = np.random.randn(self.hiddenLayerSize, \\\n",
    "                                 self.outputLayerSize)\n",
    "        \n",
    "    # Forward Propagation\n",
    "    def forward(self, X):\n",
    "        \n",
    "        # Propagate inputs through our net\n",
    "        self.z2 = np.dot(X, self.W1)\n",
    "        self.a2 = sigmoid(self.z2)\n",
    "        self.z3 = np.dot(self.a2, self.W2)\n",
    "        yHat = sigmoid(self.z3)\n",
    "        return yHat\n",
    "        \n",
    "    # And now our cost function derivative with respect to W1 and W2\n",
    "    def costFunctionPrime(self, X, y):\n",
    "        self.yHat = self.forward(X)\n",
    "\n",
    "        delta3 = np.multiply(-(y-self.yHat), sigmoidPrime(self.z3))\n",
    "        djdW2 = np.dot(self.a2.T, delta3)\n",
    "\n",
    "        delta2 = np.dot(delta3, self.W2.T) * sigmoidPrime(self.z2)\n",
    "        djdW1 = np.dot(X.T, delta2)\n",
    "\n",
    "        return djdW1, djdW2\n",
    "    \n",
    "\n",
    "# Activation function\n",
    "def sigmoid(z):\n",
    "     return 1/(1+np.exp(-z))\n",
    "\n",
    "# Define the first derivative of our sigmoid function\n",
    "def sigmoidPrime(z):\n",
    "    return np.exp(-z)/((1+np.exp(-z))**2)"
   ]
  },
  {
   "cell_type": "markdown",
   "metadata": {},
   "source": [
    "<img src=\"http://www.bogotobogo.com/python/scikit-learn/images/NeuralNetwork1/NN-with-components-w11-etc.png\" />"
   ]
  },
  {
   "cell_type": "code",
   "execution_count": 35,
   "metadata": {},
   "outputs": [],
   "source": [
    "# Test our neural network\n",
    "NN = NeuralNetwork()\n",
    "yHat = NN.forward(X)"
   ]
  },
  {
   "cell_type": "code",
   "execution_count": 36,
   "metadata": {},
   "outputs": [
    {
     "data": {
      "image/png": "[encoded data removed]",
      "text/plain": [
       "<Figure size 432x288 with 1 Axes>"
      ]
     },
     "metadata": {},
     "output_type": "display_data"
    }
   ],
   "source": [
    "# Compare our result to the real values\n",
    "plt.plot(y)\n",
    "plt.plot(yHat)\n",
    "plt.ylim(-1,1)\n",
    "plt.show()"
   ]
  },
  {
   "cell_type": "code",
   "execution_count": 37,
   "metadata": {
    "collapsed": true
   },
   "outputs": [],
   "source": [
    "# Maybe we should train our network first\n",
    "# Not everything is born with a silber spoon!"
   ]
  },
  {
   "cell_type": "code",
   "execution_count": 38,
   "metadata": {},
   "outputs": [
    {
     "name": "stdout",
     "output_type": "stream",
     "text": [
      "Calculated 1000 different weights in 18.437 seconds\n"
     ]
    }
   ],
   "source": [
    "# We just start with trying 1000 different \n",
    "# values for two different weights\n",
    "\n",
    "import time\n",
    "\n",
    "weightsToTry = np.linspace(-10, 10, 1000)\n",
    "costs = np.zeros((1000, 1000))\n",
    "\n",
    "startTime = time.clock()\n",
    "for i in range(1000):\n",
    "    for j in range(1000):\n",
    "        NN.W1[0,0] = weightsToTry[i]\n",
    "        NN.W1[0,1] = weightsToTry[j]\n",
    "        yHat = NN.forward(X)\n",
    "        costs[i] = .5 * np.sum((y-yHat) ** 2)\n",
    "    \n",
    "print('Calculated 1000 different weights in %.3f seconds' % (time.clock() - startTime))"
   ]
  },
  {
   "cell_type": "code",
   "execution_count": 17,
   "metadata": {},
   "outputs": [
    {
     "data": {
      "image/png": "[encoded data removed]",
      "text/plain": [
       "<Figure size 432x288 with 1 Axes>"
      ]
     },
     "metadata": {},
     "output_type": "display_data"
    }
   ],
   "source": [
    "# Print the different values and their cost\n",
    "\n",
    "plt.plot(weightsToTry, costs, c='blue')\n",
    "plt.grid(1)\n",
    "plt.ylabel('Cost')\n",
    "plt.xlabel('Weight')\n",
    "plt.show()"
   ]
  },
  {
   "cell_type": "code",
   "execution_count": 18,
   "metadata": {},
   "outputs": [
    {
     "name": "stdout",
     "output_type": "stream",
     "text": [
      "The calculation would take 7.07e+18 years\n"
     ]
    }
   ],
   "source": [
    "# Premature optimization is the root of all evil (D. Knuth)\n",
    "# So why do wee need Backpropagation?\n",
    "\n",
    "# If we would try to calculate 1000 different values for all our 9 weights that would be:\n",
    "seconds = (22 * (1000 ** (9-1)))\n",
    "print('The calculation would take {:,.3} years'.format((seconds / (60 * 60 * 24 * 36))))"
   ]
  },
  {
   "cell_type": "code",
   "execution_count": 20,
   "metadata": {},
   "outputs": [
    {
     "name": "stdout",
     "output_type": "stream",
     "text": [
      "(The age of the universe is somwhere around 13.8e+9 years)\n"
     ]
    }
   ],
   "source": [
    "# Remember the age of the universe\n",
    "print('(The age of the universe is somwhere around 13.8e+9 years)')"
   ]
  },
  {
   "cell_type": "code",
   "execution_count": 21,
   "metadata": {
    "collapsed": true
   },
   "outputs": [],
   "source": [
    "# So, bruteforce does not work \n",
    "# (and we let numerical gradient evaluation out of the game)"
   ]
  },
  {
   "cell_type": "markdown",
   "metadata": {},
   "source": [
    "Our functions until now are\n",
    "\n",
    "$$z^{(2)} = XW^{(1)} $$\n",
    "\n",
    "$$a^{(2)} = f(z^{(2)}) $$\n",
    "\n",
    "$$z^{(3)} = a^{(2)}W^{(2)} $$\n",
    "\n",
    "$$\\hat{y} = f(z^{(3)}) $$\n",
    "\n",
    "$$J = \\sum_{}\\frac{1}{2} (y-\\hat{y})^2 $$\n",
    "\n",
    "And we can plug these all toghether and expand our cost function:\n",
    "\n",
    "$$J = \\sum_{}\\frac{1}{2} (y-f(f(XW^{(1)})W^{(2)}))^2 $$\n",
    "\n"
   ]
  },
  {
   "cell_type": "markdown",
   "metadata": {},
   "source": [
    "So we have our cost function which we like to minimize. So which way is downhill? We could calculate different values and compare their cost. This is called numerical gradient estimation. But instead we can call our good friend calculus to calculate the rate of change of J in respect to W - derivative:"
   ]
  },
  {
   "cell_type": "markdown",
   "metadata": {
    "collapsed": true
   },
   "source": [
    "$$\\frac{dJ}{dW}$$"
   ]
  },
  {
   "cell_type": "markdown",
   "metadata": {},
   "source": [
    "And because we only consider one weight at a time, this is the partial derivative:"
   ]
  },
  {
   "cell_type": "markdown",
   "metadata": {},
   "source": [
    "$$\\frac{\\partial J}{\\partial W}$$"
   ]
  },
  {
   "cell_type": "markdown",
   "metadata": {},
   "source": [
    "Calculus and some applications of sum and chain rules leads us to the following equations for our partial derivatives:"
   ]
  },
  {
   "cell_type": "markdown",
   "metadata": {},
   "source": [
    "$$\\frac{\\partial J}{\\partial W^{(2)}} = (a^{(2)})^{T}\\delta ^{(3)}$$"
   ]
  },
  {
   "cell_type": "markdown",
   "metadata": {},
   "source": [
    "$$\\delta^{(3)} = -(y - \\hat{y})f'(z^{(3)})$$ "
   ]
  },
  {
   "cell_type": "markdown",
   "metadata": {},
   "source": [
    "$$ \\frac{\\partial J}{\\partial W^{(1)}} = X^T \\delta^{(3)}(W^{(2)})^T f'(z^{(2)})$$"
   ]
  },
  {
   "cell_type": "markdown",
   "metadata": {},
   "source": [
    "And differentiation of our sigmoid activation function leads us:"
   ]
  },
  {
   "cell_type": "markdown",
   "metadata": {},
   "source": [
    "$$f'(z) = \\frac{e^{-z}}{(1+e^{-z})^2}$$"
   ]
  },
  {
   "cell_type": "markdown",
   "metadata": {},
   "source": [
    "We define our sigmoid prime function in our neural network class..."
   ]
  },
  {
   "cell_type": "code",
   "execution_count": 45,
   "metadata": {},
   "outputs": [
    {
     "data": {
      "image/png": "[encoded data removed]",
      "text/plain": [
       "<Figure size 432x288 with 1 Axes>"
      ]
     },
     "metadata": {},
     "output_type": "display_data"
    }
   ],
   "source": [
    "# Some visual verification\n",
    "testValues = np.arange(-5, 5, 0.01) \n",
    "plt.plot(testValues, sigmoid(testValues), linewidth=2)\n",
    "plt.plot(testValues, sigmoidPrime(testValues), linewidth=2)\n",
    "plt.grid(1)\n",
    "plt.legend(['sigmoid', 'sigmoidPrime'])\n",
    "plt.show()"
   ]
  },
  {
   "cell_type": "markdown",
   "metadata": {},
   "source": [
    "So we can now calculate which way is uphill in our n-dimensional features space:"
   ]
  },
  {
   "cell_type": "code",
   "execution_count": 41,
   "metadata": {
    "collapsed": true
   },
   "outputs": [],
   "source": [
    "NN = NeuralNetwork()\n",
    "cost1 = NN.forward(X)\n",
    "\n",
    "djdW1, djdW2 = NN.costFunctionPrime(X, y)"
   ]
  },
  {
   "cell_type": "code",
   "execution_count": 42,
   "metadata": {},
   "outputs": [
    {
     "data": {
      "text/plain": [
       "array([[-0.00061407,  0.00275955, -0.00013743],\n",
       "       [-0.00180169,  0.00594617, -0.00030235]])"
      ]
     },
     "execution_count": 42,
     "metadata": {},
     "output_type": "execute_result"
    }
   ],
   "source": [
    "djdW1"
   ]
  },
  {
   "cell_type": "code",
   "execution_count": 43,
   "metadata": {},
   "outputs": [
    {
     "data": {
      "text/plain": [
       "array([[ 0.31512755],\n",
       "       [ 0.32559945],\n",
       "       [ 0.32569546]])"
      ]
     },
     "execution_count": 43,
     "metadata": {},
     "output_type": "execute_result"
    }
   ],
   "source": [
    "djdW2"
   ]
  },
  {
   "cell_type": "markdown",
   "metadata": {},
   "source": [
    "If we know move in this way be adding a scalar times our derivatives to all our weights our cost increases:"
   ]
  },
  {
   "cell_type": "code",
   "execution_count": 53,
   "metadata": {},
   "outputs": [
    {
     "name": "stdout",
     "output_type": "stream",
     "text": [
      "2.6266496327 5.89998424827\n"
     ]
    }
   ],
   "source": [
    "scalar = 3\n",
    "NN.W1 = NN.W1 + scalar * djdW1\n",
    "NN.W2 = NN.W2 + scalar * djdW2\n",
    "\n",
    "cost2 = NN.forward(X)\n",
    "print(np.sum(cost1), np.sum(cost2))"
   ]
  },
  {
   "cell_type": "markdown",
   "metadata": {},
   "source": [
    "TODO: Implement costfunction the right way, this is not correct. We have to return y-yHat ???\n",
    "We don't have costFunction yet."
   ]
  },
  {
   "cell_type": "markdown",
   "metadata": {},
   "source": [
    "If we subtract a scala times our weights our cost decreases"
   ]
  },
  {
   "cell_type": "code",
   "execution_count": 48,
   "metadata": {},
   "outputs": [
    {
     "name": "stdout",
     "output_type": "stream",
     "text": [
      "4.60745488113 2.6266496327\n"
     ]
    }
   ],
   "source": [
    "NN.W1 = NN.W1 - scalar * djdW1\n",
    "NN.W2 = NN.W2 - scalar * djdW2\n",
    "\n",
    "cost3 = NN.forward(X)\n",
    "print(np.sum(cost2), np.sum(cost3))"
   ]
  },
  {
   "cell_type": "code",
   "execution_count": null,
   "metadata": {
    "collapsed": true
   },
   "outputs": [],
   "source": []
  }
 ],
 "metadata": {
  "kernelspec": {
   "display_name": "Python 3",
   "language": "python",
   "name": "python3"
  },
  "language_info": {
   "codemirror_mode": {
    "name": "ipython",
    "version": 3
   },
   "file_extension": ".py",
   "mimetype": "text/x-python",
   "name": "python",
   "nbconvert_exporter": "python",
   "pygments_lexer": "ipython3",
   "version": "3.6.6"
  }
 },
 "nbformat": 4,
 "nbformat_minor": 2
}
