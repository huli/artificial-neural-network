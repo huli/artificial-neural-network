{
 "cells": [
  {
   "cell_type": "markdown",
   "metadata": {},
   "source": [
    "# Simple Artificial Neural Network\n",
    "Inspired by welch labs Neural Networks demystified"
   ]
  },
  {
   "cell_type": "code",
   "execution_count": 57,
   "metadata": {
    "collapsed": true
   },
   "outputs": [],
   "source": [
    "# Package for scientific computing\n",
    "import numpy as np"
   ]
  },
  {
   "cell_type": "code",
   "execution_count": 58,
   "metadata": {
    "collapsed": true
   },
   "outputs": [],
   "source": [
    "# Make up sample data for our training\n",
    "\n",
    "# Independent/predictor variables ([hours sleep, hours study])\n",
    "X = np.array(([6, 2],[8, 1],[4, 0], [9, 3], [7, 1]), dtype=float)\n",
    "\n",
    "# Dependent/predicted variables (score in test)\n",
    "y = np.array(([85], [84], [70], [98], [80]), dtype=float)"
   ]
  },
  {
   "cell_type": "code",
   "execution_count": 59,
   "metadata": {},
   "outputs": [
    {
     "data": {
      "text/plain": [
       "array([[ 6.,  2.],\n",
       "       [ 8.,  1.],\n",
       "       [ 4.,  0.],\n",
       "       [ 9.,  3.],\n",
       "       [ 7.,  1.]])"
      ]
     },
     "execution_count": 59,
     "metadata": {},
     "output_type": "execute_result"
    }
   ],
   "source": [
    "X"
   ]
  },
  {
   "cell_type": "code",
   "execution_count": 60,
   "metadata": {},
   "outputs": [
    {
     "data": {
      "text/plain": [
       "array([[ 85.],\n",
       "       [ 84.],\n",
       "       [ 70.],\n",
       "       [ 98.],\n",
       "       [ 80.]])"
      ]
     },
     "execution_count": 60,
     "metadata": {},
     "output_type": "execute_result"
    }
   ],
   "source": [
    "y"
   ]
  },
  {
   "cell_type": "code",
   "execution_count": 61,
   "metadata": {
    "collapsed": true
   },
   "outputs": [],
   "source": [
    "# Data optimization for better performance \n",
    "\n",
    "# Feature scaling\n",
    "X = X / np.amax(X, axis = 0)\n",
    "y = y / 100 # 100 would be the max score\n",
    "\n",
    "# Mean normalisation\n",
    "X = X - np.mean(X, axis=0)\n",
    "y = y - np.mean(y, axis=0)"
   ]
  },
  {
   "cell_type": "code",
   "execution_count": 62,
   "metadata": {},
   "outputs": [
    {
     "data": {
      "text/plain": [
       "array([[-0.08888889,  0.2       ],\n",
       "       [ 0.13333333, -0.13333333],\n",
       "       [-0.31111111, -0.46666667],\n",
       "       [ 0.24444444,  0.53333333],\n",
       "       [ 0.02222222, -0.13333333]])"
      ]
     },
     "execution_count": 62,
     "metadata": {},
     "output_type": "execute_result"
    }
   ],
   "source": [
    "X"
   ]
  },
  {
   "cell_type": "code",
   "execution_count": 63,
   "metadata": {
    "collapsed": true
   },
   "outputs": [],
   "source": [
    "# 2D plotting library\n",
    "import matplotlib.pyplot as plt"
   ]
  },
  {
   "cell_type": "code",
   "execution_count": 65,
   "metadata": {},
   "outputs": [
    {
     "data": {
      "image/png": "[encoded data removed]",
      "text/plain": [
       "<matplotlib.figure.Figure at 0x23af3aeed68>"
      ]
     },
     "metadata": {},
     "output_type": "display_data"
    }
   ],
   "source": [
    "# Visualizing our data for some data exploration ;)\n",
    "plt.scatter(X[:, 0], X[:,1], c=y)\n",
    "plt.xlabel('sleep (hours)')\n",
    "plt.ylabel('studied (hours)')\n",
    "plt.colorbar()\n",
    "plt.show()"
   ]
  },
  {
   "cell_type": "code",
   "execution_count": null,
   "metadata": {
    "collapsed": true
   },
   "outputs": [],
   "source": []
  }
 ],
 "metadata": {
  "kernelspec": {
   "display_name": "Python 3",
   "language": "python",
   "name": "python3"
  },
  "language_info": {
   "codemirror_mode": {
    "name": "ipython",
    "version": 3
   },
   "file_extension": ".py",
   "mimetype": "text/x-python",
   "name": "python",
   "nbconvert_exporter": "python",
   "pygments_lexer": "ipython3",
   "version": "3.6.1"
  }
 },
 "nbformat": 4,
 "nbformat_minor": 2
}
