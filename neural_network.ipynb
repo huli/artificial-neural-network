{
 "cells": [
  {
   "cell_type": "markdown",
   "metadata": {},
   "source": [
    "# Simple Artificial Neural Network\n",
    "Inspired by welch labs Neural Networks demystified"
   ]
  },
  {
   "cell_type": "code",
   "execution_count": 6,
   "metadata": {
    "collapsed": true
   },
   "outputs": [],
   "source": [
    "# Package for scientific computing\n",
    "import numpy as np"
   ]
  },
  {
   "cell_type": "code",
   "execution_count": 7,
   "metadata": {
    "collapsed": true
   },
   "outputs": [],
   "source": [
    "# Make up sample data for our training\n",
    "\n",
    "# Independent/predictor variables ([hours sleep, hours study])\n",
    "X = np.array(([7, 2],[8, 1],[4, 0], [9, 3], [7, 1], [8, 3]), dtype=float)\n",
    "\n",
    "# Dependent/predicted variables (score in test)\n",
    "y = np.array(([85], [84], [70], [98], [80], [92]), dtype=float)"
   ]
  },
  {
   "cell_type": "code",
   "execution_count": 8,
   "metadata": {},
   "outputs": [
    {
     "data": {
      "text/plain": [
       "array([[ 7.,  2.],\n",
       "       [ 8.,  1.],\n",
       "       [ 4.,  0.],\n",
       "       [ 9.,  3.],\n",
       "       [ 7.,  1.],\n",
       "       [ 8.,  3.]])"
      ]
     },
     "execution_count": 8,
     "metadata": {},
     "output_type": "execute_result"
    }
   ],
   "source": [
    "X"
   ]
  },
  {
   "cell_type": "code",
   "execution_count": 9,
   "metadata": {},
   "outputs": [
    {
     "data": {
      "text/plain": [
       "array([[ 85.],\n",
       "       [ 84.],\n",
       "       [ 70.],\n",
       "       [ 98.],\n",
       "       [ 80.],\n",
       "       [ 92.]])"
      ]
     },
     "execution_count": 9,
     "metadata": {},
     "output_type": "execute_result"
    }
   ],
   "source": [
    "y"
   ]
  },
  {
   "cell_type": "code",
   "execution_count": 10,
   "metadata": {
    "collapsed": true
   },
   "outputs": [],
   "source": [
    "# Data optimization for better performance \n",
    "\n",
    "# Feature scaling\n",
    "X = X / np.amax(X, axis = 0)\n",
    "y = y / 100 # 100 would be the max score\n",
    "\n",
    "# Mean normalisation\n",
    "X = X - np.mean(X, axis=0)\n",
    "y = y - np.mean(y, axis=0)"
   ]
  },
  {
   "cell_type": "code",
   "execution_count": 11,
   "metadata": {},
   "outputs": [
    {
     "data": {
      "text/plain": [
       "array([[-0.01851852,  0.11111111],\n",
       "       [ 0.09259259, -0.22222222],\n",
       "       [-0.35185185, -0.55555556],\n",
       "       [ 0.2037037 ,  0.44444444],\n",
       "       [-0.01851852, -0.22222222],\n",
       "       [ 0.09259259,  0.44444444]])"
      ]
     },
     "execution_count": 11,
     "metadata": {},
     "output_type": "execute_result"
    }
   ],
   "source": [
    "X"
   ]
  },
  {
   "cell_type": "code",
   "execution_count": 12,
   "metadata": {
    "collapsed": true
   },
   "outputs": [],
   "source": [
    "# 2D plotting library\n",
    "import matplotlib.pyplot as plt"
   ]
  },
  {
   "cell_type": "code",
   "execution_count": 13,
   "metadata": {},
   "outputs": [
    {
     "data": {
      "image/png": "[encoded data removed]",
      "text/plain": [
       "<matplotlib.figure.Figure at 0x1d6bc343fd0>"
      ]
     },
     "metadata": {},
     "output_type": "display_data"
    }
   ],
   "source": [
    "# Visualizing our data for some data exploration ;)\n",
    "plt.scatter(X[:, 0], X[:,1], c=y)\n",
    "plt.xlabel('sleep (hours)')\n",
    "plt.ylabel('studied (hours)')\n",
    "plt.colorbar()\n",
    "plt.show()"
   ]
  },
  {
   "cell_type": "code",
   "execution_count": 14,
   "metadata": {
    "collapsed": true
   },
   "outputs": [],
   "source": [
    "# Define a sigmoid function for illustration\n",
    "def sigmoid(z):\n",
    "     return 1/(1+np.exp(-z))"
   ]
  },
  {
   "cell_type": "code",
   "execution_count": 15,
   "metadata": {},
   "outputs": [
    {
     "data": {
      "image/png": "[encoded data removed]",
      "text/plain": [
       "<matplotlib.figure.Figure at 0x1d6bbfe2208>"
      ]
     },
     "metadata": {},
     "output_type": "display_data"
    }
   ],
   "source": [
    "# Test our sigmoid function\n",
    "testInput = np.arange(-6, 6, 0.01) \n",
    "plt.plot(testInput, sigmoid(testInput), linewidth=2)\n",
    "plt.show()"
   ]
  },
  {
   "cell_type": "code",
   "execution_count": 16,
   "metadata": {
    "collapsed": true
   },
   "outputs": [],
   "source": [
    "# Implement the neural network class\n",
    "class NeuralNetwork(object):\n",
    "    \n",
    "    def __init__(self):\n",
    "        \n",
    "        # Define some hyper-parameters\n",
    "        self.inputLayerSize = 2\n",
    "        self.outputLayerSize = 1\n",
    "        self.hiddenLayerSize = 3\n",
    "        \n",
    "        # Randomly initilization of the weights\n",
    "        self.W1 = np.random.randn(self.inputLayerSize,  \\\n",
    "                                 self.hiddenLayerSize)\n",
    "        self.W2 = np.random.randn(self.hiddenLayerSize, \\\n",
    "                                 self.outputLayerSize)\n",
    "        \n",
    "    # Forward Propagation\n",
    "    def forward(self, X):\n",
    "        \n",
    "        # Propagate inputs through our net\n",
    "        self.z2 = np.dot(X, self.W1)\n",
    "        self.a2 = self.sigmoid(self.z2)\n",
    "        self.z3 = np.dot(self.a2, self.W2)\n",
    "        yHat = self.sigmoid(self.z3)\n",
    "        return yHat\n",
    "    \n",
    "    # Activation function\n",
    "    def sigmoid(self, z):\n",
    "         return 1/(1+np.exp(-z))\n",
    "        \n",
    "        "
   ]
  },
  {
   "cell_type": "markdown",
   "metadata": {},
   "source": [
    "<img src=\"http://www.bogotobogo.com/python/scikit-learn/images/NeuralNetwork1/NN-with-components-w11-etc.png\" />"
   ]
  },
  {
   "cell_type": "code",
   "execution_count": 17,
   "metadata": {
    "collapsed": true
   },
   "outputs": [],
   "source": [
    "# Test our neural network\n",
    "NN = NeuralNetwork()\n",
    "yHat = NN.forward(X)"
   ]
  },
  {
   "cell_type": "code",
   "execution_count": 18,
   "metadata": {},
   "outputs": [
    {
     "data": {
      "image/png": "[encoded data removed]",
      "text/plain": [
       "<matplotlib.figure.Figure at 0x1d6bc3f4080>"
      ]
     },
     "metadata": {},
     "output_type": "display_data"
    }
   ],
   "source": [
    "# Compare our result to the real values\n",
    "plt.plot(y)\n",
    "plt.plot(yHat)\n",
    "plt.ylim(-1,1)\n",
    "plt.show()"
   ]
  },
  {
   "cell_type": "code",
   "execution_count": 62,
   "metadata": {
    "collapsed": true
   },
   "outputs": [],
   "source": [
    "# Maybe we should train our network first\n",
    "# Not everything is born with a silber spoon!"
   ]
  },
  {
   "cell_type": "code",
   "execution_count": 38,
   "metadata": {},
   "outputs": [
    {
     "name": "stdout",
     "output_type": "stream",
     "text": [
      "Calculated 1000 different weights in 21.860 seconds\n"
     ]
    }
   ],
   "source": [
    "# We just start with trying 1000 different \n",
    "# values for two different weights\n",
    "\n",
    "import time\n",
    "\n",
    "weightsToTry = np.linspace(-10, 10, 1000)\n",
    "costs = np.zeros((1000, 1000))\n",
    "\n",
    "startTime = time.clock()\n",
    "for i in range(1000):\n",
    "    for j in range(1000):\n",
    "        NN.W1[0,0] = weightsToTry[i]\n",
    "        NN.W1[0,1] = weightsToTry[j]\n",
    "        yHat = NN.forward(X)\n",
    "        costs[i] = .5 * np.sum((y-yHat) ** 2)\n",
    "    \n",
    "print('Calculated 1000 different weights in %.3f seconds' % (time.clock() - startTime))"
   ]
  },
  {
   "cell_type": "code",
   "execution_count": 34,
   "metadata": {},
   "outputs": [
    {
     "data": {
      "image/png": "[encoded data removed]",
      "text/plain": [
       "<matplotlib.figure.Figure at 0x1d6bc60b550>"
      ]
     },
     "metadata": {},
     "output_type": "display_data"
    }
   ],
   "source": [
    "# Print the different values and their cost\n",
    "\n",
    "plt.plot(weightsToTry, costs)\n",
    "plt.grid(1)\n",
    "plt.ylabel('Cost')\n",
    "plt.xlabel('Weight')\n",
    "plt.show()"
   ]
  },
  {
   "cell_type": "code",
   "execution_count": 59,
   "metadata": {},
   "outputs": [
    {
     "name": "stdout",
     "output_type": "stream",
     "text": [
      "The calculation would take 7.07e+18 years\n"
     ]
    }
   ],
   "source": [
    "# Premature optimization is the root of all evil (D. Knuth)\n",
    "# So why do wee need Backpropagation?\n",
    "\n",
    "# If we would try to calculate 1000 different values for all our 9 weights that would be:\n",
    "seconds = (22 * (1000 ** (9-1)))\n",
    "print('The calculation would take {:,.3} years'.format((seconds / (60 * 60 * 24 * 36))))"
   ]
  },
  {
   "cell_type": "code",
   "execution_count": 61,
   "metadata": {},
   "outputs": [
    {
     "name": "stdout",
     "output_type": "stream",
     "text": [
      "(The age of the universe is somwhere around 13.8e+9)\n"
     ]
    }
   ],
   "source": [
    "# Remember the age of the universe\n",
    "print('(The age of the universe is somwhere around 13.8e+9)')"
   ]
  },
  {
   "cell_type": "code",
   "execution_count": 63,
   "metadata": {
    "collapsed": true
   },
   "outputs": [],
   "source": [
    "# So, bruteforce does not work \n",
    "# (and we let numerical gradient evaluation out of the game)"
   ]
  },
  {
   "cell_type": "markdown",
   "metadata": {},
   "source": [
    "Our functions until now are\n",
    "\n",
    "$$z^{(2)} = XW^{(1)} $$\n",
    "\n",
    "$$a^{(2)} = f(z^{(2)}) $$\n",
    "\n",
    "$$z^{(3)} = a^{(2)}W^{(2)} $$\n",
    "\n",
    "$$\\hat{y} = f(z^{(3)}) $$\n",
    "\n",
    "$$J = \\sum_{}\\frac{1}{2} (y-\\hat{y})^2 $$\n",
    "\n",
    "And we can plug these all toghether and expand our cost function:\n",
    "\n",
    "$$J = \\sum_{}\\frac{1}{2} (y-f(f(XW^{(1)})W^{(2)}))^2 $$\n",
    "\n"
   ]
  },
  {
   "cell_type": "markdown",
   "metadata": {},
   "source": []
  },
  {
   "cell_type": "code",
   "execution_count": null,
   "metadata": {
    "collapsed": true
   },
   "outputs": [],
   "source": []
  }
 ],
 "metadata": {
  "kernelspec": {
   "display_name": "Python 3",
   "language": "python",
   "name": "python3"
  },
  "language_info": {
   "codemirror_mode": {
    "name": "ipython",
    "version": 3
   },
   "file_extension": ".py",
   "mimetype": "text/x-python",
   "name": "python",
   "nbconvert_exporter": "python",
   "pygments_lexer": "ipython3",
   "version": "3.6.1"
  }
 },
 "nbformat": 4,
 "nbformat_minor": 2
}
